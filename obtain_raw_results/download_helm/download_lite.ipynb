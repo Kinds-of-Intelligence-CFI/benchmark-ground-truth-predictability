{
 "cells": [
  {
   "cell_type": "code",
   "id": "c88e669e",
   "metadata": {},
   "source": [
    "from tqdm.notebook import tqdm\n",
    "import os\n",
    "import requests\n",
    "import json\n",
    "import pandas as pd\n",
    "\n",
    "version_to_run = \"v1.0.0\"\n",
    "    \n",
    "###################################################################################################################\n",
    "tasks_path = \"data/filtered_run_path\"\n",
    "#tasks_list = os.listdir(os.path.join(tasks_path, version_to_run))\n",
    "\n",
    "def get_json_from_url(url):\n",
    "    try:\n",
    "        response = requests.get(url)\n",
    "        response.raise_for_status()  # Raise an exception for 4xx or 5xx status codes\n",
    "        json_data = response.json()\n",
    "        return json_data\n",
    "    except requests.exceptions.RequestException as e:\n",
    "        print(f\"An error occurred: {e}\")\n",
    "        return None\n",
    "        \n",
    "overwrite = False"
   ],
   "outputs": [],
   "execution_count": null
  },
  {
   "cell_type": "code",
   "source": [
    "df = pd.read_csv('helm_lite.csv')\n"
   ],
   "metadata": {
    "collapsed": false
   },
   "id": "aa15e22334c6d7be",
   "outputs": [],
   "execution_count": null
  },
  {
   "cell_type": "code",
   "source": [
    "df.columns"
   ],
   "metadata": {
    "collapsed": false
   },
   "id": "d9c871d18a2dee62",
   "outputs": [],
   "execution_count": null
  },
  {
   "cell_type": "code",
   "source": "df\n",
   "metadata": {
    "collapsed": false
   },
   "id": "6c1ac473ed1be395",
   "outputs": [],
   "execution_count": null
  },
  {
   "cell_type": "code",
   "source": [
    "list(df.Model.unique())"
   ],
   "metadata": {
    "collapsed": false
   },
   "id": "d036cd973b07e65c",
   "outputs": [],
   "execution_count": null
  },
  {
   "cell_type": "code",
   "source": [
    "df.Groups.value_counts()"
   ],
   "metadata": {
    "collapsed": false
   },
   "id": "4a01cc182951d7de",
   "outputs": [],
   "execution_count": null
  },
  {
   "cell_type": "code",
   "source": [
    "df[[\"Groups\", \"Subject / Task\"]].value_counts()"
   ],
   "metadata": {
    "collapsed": false
   },
   "id": "d8e71fce69fdc704",
   "outputs": [],
   "execution_count": null
  },
  {
   "cell_type": "code",
   "id": "eb686d1e",
   "metadata": {},
   "source": [
    "tasks_list = list(df.Run)"
   ],
   "outputs": [],
   "execution_count": null
  },
  {
   "cell_type": "code",
   "source": [
    "tasks_list"
   ],
   "metadata": {
    "collapsed": false
   },
   "id": "ccc5e344a14a0c11",
   "outputs": [],
   "execution_count": null
  },
  {
   "metadata": {},
   "cell_type": "code",
   "source": [
    "import os, sys\n",
    "wd = os.getcwd()"
   ],
   "id": "a65e75d72d0241d2",
   "outputs": [],
   "execution_count": null
  },
  {
   "cell_type": "code",
   "source": [
    "template_url = f\"https://storage.googleapis.com/crfm-helm-public/lite/benchmark_output/runs/{version_to_run}\"\n",
    "save_dir = f\"{wd}/../../raw_results/helm_lite_{version_to_run}\""
   ],
   "metadata": {
    "collapsed": false
   },
   "id": "d464e35d65e4f6bf",
   "outputs": [],
   "execution_count": null
  },
  {
   "cell_type": "markdown",
   "source": [
    "The following cell downloads all the raw data."
   ],
   "metadata": {
    "collapsed": false
   },
   "id": "fc29a26c8f1fb432"
  },
  {
   "cell_type": "code",
   "id": "a3f67409",
   "metadata": {},
   "source": [
    "for tasks in [tasks_list]:\n",
    "    \n",
    "    for task in tqdm(tasks):\n",
    "        cur_save_dir = f\"{save_dir}/{task}\"\n",
    "        os.makedirs(cur_save_dir, exist_ok=True)\n",
    "\n",
    "        for file_type in [\n",
    "                # \"run_spec\",\n",
    "                # \"stats\",\n",
    "                # \"per_instance_stats\",\n",
    "                # \"instances\",\n",
    "                \"scenario_state\",  # this file contains all the useful bits\n",
    "                \"display_predictions\",\n",
    "                # \"display_requests\",\n",
    "                # \"scenario\",\n",
    "        ]:\n",
    "            save_path = f\"{cur_save_dir}/{file_type}.json\"\n",
    "            if os.path.exists(save_path):\n",
    "                with open(save_path) as f:\n",
    "                    data = json.load(f)\n",
    "                if data is None or overwrite:\n",
    "                    download = True\n",
    "                else: \n",
    "                    download = False\n",
    "            else:\n",
    "                download = True\n",
    "                                \n",
    "            #https://storage.googleapis.com/crfm-helm-public/benchmark_output/runs/v0.2.2/babi_qa:task=15,model=AlephAlpha_luminous-base/scenario_state.json\n",
    "            \n",
    "            if download:            \n",
    "                cur_url = f\"{template_url}/{task}/{file_type}.json\"\n",
    "                print(\"download \",  cur_url)\n",
    "                json.dump(get_json_from_url(cur_url), open(save_path, \"w\"), indent=2)"
   ],
   "outputs": [],
   "execution_count": null
  }
 ],
 "metadata": {
  "kernelspec": {
   "display_name": "Python 3 (ipykernel)",
   "language": "python",
   "name": "python3"
  },
  "language_info": {
   "codemirror_mode": {
    "name": "ipython",
    "version": 3
   },
   "file_extension": ".py",
   "mimetype": "text/x-python",
   "name": "python",
   "nbconvert_exporter": "python",
   "pygments_lexer": "ipython3",
   "version": "3.11.5"
  }
 },
 "nbformat": 4,
 "nbformat_minor": 5
}
